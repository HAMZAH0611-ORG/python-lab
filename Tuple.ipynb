{
  "nbformat": 4,
  "nbformat_minor": 0,
  "metadata": {
    "colab": {
      "provenance": []
    },
    "kernelspec": {
      "name": "python3",
      "display_name": "Python 3"
    },
    "language_info": {
      "name": "python"
    }
  },
  "cells": [
    {
      "cell_type": "code",
      "execution_count": 2,
      "metadata": {
        "colab": {
          "base_uri": "https://localhost:8080/"
        },
        "id": "UhS60na3rbou",
        "outputId": "24c37e8e-4662-4826-b4a1-52bcbdd126f8"
      },
      "outputs": [
        {
          "output_type": "stream",
          "name": "stdout",
          "text": [
            "(55, 66, 'hello,world')\n"
          ]
        }
      ],
      "source": [
        "a=(55,66,'hello,world')\n",
        "print(a)"
      ]
    },
    {
      "cell_type": "code",
      "source": [
        "a=(55,66,\"hello,world\")\n",
        "print(a*2)"
      ],
      "metadata": {
        "colab": {
          "base_uri": "https://localhost:8080/"
        },
        "id": "BZ0T-A_vsMeU",
        "outputId": "256e0cb2-f86a-45d3-9ac0-6b0514b6dca4"
      },
      "execution_count": 7,
      "outputs": [
        {
          "output_type": "stream",
          "name": "stdout",
          "text": [
            "(55, 66, 'hello,world', 55, 66, 'hello,world')\n"
          ]
        }
      ]
    },
    {
      "cell_type": "code",
      "source": [
        "numbers=(\"one\",\"two\",\"three\",\"four\")\n",
        "(a,b,c,d)=numbers\n",
        "print(c)"
      ],
      "metadata": {
        "colab": {
          "base_uri": "https://localhost:8080/"
        },
        "id": "sV_bTNqUs9kM",
        "outputId": "7c9dcd8f-6273-4cdb-c4fa-b92e63603d85"
      },
      "execution_count": 9,
      "outputs": [
        {
          "output_type": "stream",
          "name": "stdout",
          "text": [
            "three\n"
          ]
        }
      ]
    },
    {
      "cell_type": "code",
      "source": [
        "numbers=(\"one\",\"two\",\"three\",\"four\")\n",
        "(a,*b,c)=numbers\n",
        "print(a)\n",
        "print(*b)\n",
        "print(c)"
      ],
      "metadata": {
        "colab": {
          "base_uri": "https://localhost:8080/"
        },
        "id": "W07svQUesMbv",
        "outputId": "dbef2368-b208-43a8-f959-d952295f862a"
      },
      "execution_count": 10,
      "outputs": [
        {
          "output_type": "stream",
          "name": "stdout",
          "text": [
            "one\n",
            "two three\n",
            "four\n"
          ]
        }
      ]
    },
    {
      "cell_type": "code",
      "source": [
        "tuple=(\"developer\",5,8.9,\"r\",8)\n",
        "print(len(tuple))"
      ],
      "metadata": {
        "colab": {
          "base_uri": "https://localhost:8080/"
        },
        "id": "Ajwkuplhvw6f",
        "outputId": "9b0f09eb-e97a-4574-a993-5a9f31acec00"
      },
      "execution_count": 11,
      "outputs": [
        {
          "output_type": "stream",
          "name": "stdout",
          "text": [
            "5\n"
          ]
        }
      ]
    },
    {
      "cell_type": "code",
      "source": [
        "tuple=(8,23,5,78,7)\n",
        "print(sum(tuple))"
      ],
      "metadata": {
        "colab": {
          "base_uri": "https://localhost:8080/"
        },
        "id": "N33HGl-ywv_Q",
        "outputId": "10027bb0-784b-4c01-a811-84a07552c707"
      },
      "execution_count": 13,
      "outputs": [
        {
          "output_type": "stream",
          "name": "stdout",
          "text": [
            "121\n"
          ]
        }
      ]
    },
    {
      "cell_type": "code",
      "source": [
        "tuple=(8,23,5,78,7)\n",
        "print(sorted(tuple))"
      ],
      "metadata": {
        "colab": {
          "base_uri": "https://localhost:8080/"
        },
        "id": "j5cXIE3fxVXg",
        "outputId": "efc84ef4-7251-4c8b-eb42-57792195aa67"
      },
      "execution_count": 14,
      "outputs": [
        {
          "output_type": "stream",
          "name": "stdout",
          "text": [
            "[5, 7, 8, 23, 78]\n"
          ]
        }
      ]
    },
    {
      "cell_type": "code",
      "source": [
        "tuple1=()\n",
        "print(any(tuple1))"
      ],
      "metadata": {
        "colab": {
          "base_uri": "https://localhost:8080/"
        },
        "id": "wDF2H32gyGSa",
        "outputId": "5423374c-f32c-4345-bba7-f720a6320cd5"
      },
      "execution_count": 21,
      "outputs": [
        {
          "output_type": "stream",
          "name": "stdout",
          "text": [
            "False\n"
          ]
        }
      ]
    },
    {
      "cell_type": "code",
      "source": [
        "a=int(input())\n",
        "t_1=tuple(map(int,input().split()))\n",
        "len(t_1)"
      ],
      "metadata": {
        "colab": {
          "base_uri": "https://localhost:8080/"
        },
        "id": "-1vWBbBayjyd",
        "outputId": "8e044a14-7dc3-4a56-e783-826a6a49b194"
      },
      "execution_count": 6,
      "outputs": [
        {
          "name": "stdout",
          "output_type": "stream",
          "text": [
            "5\n",
            "26 10 12 6 67\n"
          ]
        },
        {
          "output_type": "execute_result",
          "data": {
            "text/plain": [
              "5"
            ]
          },
          "metadata": {},
          "execution_count": 6
        }
      ]
    },
    {
      "cell_type": "code",
      "source": [
        "value_tuple=(26,12,10,6,67,91,45,\"hello\",7.5,99,7,\"name\")"
      ],
      "metadata": {
        "id": "yivbmKDo0747"
      },
      "execution_count": null,
      "outputs": []
    },
    {
      "cell_type": "code",
      "source": [
        "t_1=list(map(int,input().split()))\n",
        "print(len(t_1))"
      ],
      "metadata": {
        "colab": {
          "base_uri": "https://localhost:8080/"
        },
        "id": "fcMZJHey2XTk",
        "outputId": "6d8fa723-b8a6-4652-b400-98970d4a21f8"
      },
      "execution_count": 10,
      "outputs": [
        {
          "output_type": "stream",
          "name": "stdout",
          "text": [
            "3 5 6 \n",
            "3\n"
          ]
        }
      ]
    }
  ]
}